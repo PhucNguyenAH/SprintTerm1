{
 "cells": [
  {
   "cell_type": "markdown",
   "metadata": {},
   "source": [
    "# Decision Tree\n",
    "## Name: Nguyen Anh Hoang Phuc"
   ]
  },
  {
   "cell_type": "code",
   "execution_count": 1,
   "metadata": {},
   "outputs": [],
   "source": [
    "import numpy as np\n",
    "import matplotlib.pyplot as plt\n",
    "import statistics"
   ]
  },
  {
   "cell_type": "code",
   "execution_count": 2,
   "metadata": {},
   "outputs": [],
   "source": [
    "class ScratchDecesionTreeClassifierDepth1():\n",
    "    \"\"\"\n",
    "    Depth 1 decision tree classifier scratch implementation\n",
    "    Parameters\n",
    "    ----------\n",
    "    verbose : bool\n",
    "      True to output the learning process\n",
    "    \"\"\"\n",
    "    def __init__(self, verbose=False):\n",
    "        # Record hyperparameters as attributes\n",
    "        self.verbose = verbose\n",
    "    \n",
    "    def _gini(self, X):\n",
    "        \"\"\"\n",
    "        Calculating Gini Impurity\n",
    "        Parameters\n",
    "        =========\n",
    "        x: ndarray, shape (n_samples,) of the following form\n",
    "           Features value of training data\n",
    "        \"\"\"\n",
    "        unique, count = np.unique(X, return_counts=True)\n",
    "        tmp = 0\n",
    "\n",
    "        for i in unique:\n",
    "            tmp += (count[unique==i]/np.sum(count))**2\n",
    "\n",
    "        return 1-tmp\n",
    "\n",
    "    def fit(self, X, y):\n",
    "        \"\"\"\n",
    "        Learn the decision tree classifier\n",
    "        Parameters\n",
    "        ----------\n",
    "        X : The following forms of ndarray, shape (n_samples, n_features)\n",
    "            Features of training data\n",
    "        y : The following form of ndarray, shape (n_samples,)\n",
    "            Correct answer value of training data\n",
    "        \"\"\"\n",
    "        feature_num = X.shape[1]\n",
    "\n",
    "        self.gain = 0\n",
    "        for i in range(feature_num):\n",
    "            self.threshold = np.unique(X[:,i])\n",
    "            for j in self.threshold[1:]:\n",
    "                l = y[X[:,i] < j]\n",
    "                r = y[X[:,i] >= j]\n",
    "\n",
    "                gini_l = len(l)/(len(l)+len(r))*self._gini(l)\n",
    "                gini_r = len(r)/(len(l)+len(r))*self._gini(r)\n",
    "\n",
    "                tmp = self._gini(y) - gini_l - gini_r\n",
    "\n",
    "                if tmp > self.gain:\n",
    "                    self.l_label = statistics.mode(l)\n",
    "                    self.r_label = statistics.mode(r)\n",
    "                    self.feature = i\n",
    "                    self.threshold = j\n",
    "                    self.gain = tmp\n",
    "\n",
    "                    if self.verbose:\n",
    "                        print('feature', self.feature,\n",
    "                              'threshold',self.threshold,\n",
    "                              'gain', self.gain)\n",
    "\n",
    "\n",
    "    def predict(self, X):\n",
    "        \"\"\"\n",
    "        Estimate the label using a decision tree classifier\n",
    "        \"\"\"\n",
    "        return np.where(X[:,self.feature] < self.threshold, self.l_label, self.r_label)"
   ]
  },
  {
   "cell_type": "code",
   "execution_count": 3,
   "metadata": {},
   "outputs": [],
   "source": [
    "# Visualizing the decision area\n",
    "from matplotlib.colors import ListedColormap\n",
    "import matplotlib.patches as mpatches\n",
    "\n",
    "def decision_region(X,y,model,step=0.01,title='decision region',xlabel1='xlabel',ylabel1='ylabel',target_names=['versicolor','virginica']):\n",
    "    #setting\n",
    "    scatter_color = ['red', 'blue']\n",
    "    contourf_color = ['pink', 'skyblue']\n",
    "    n_class = 2\n",
    "\n",
    "    #pred\n",
    "    mesh_f0, mesh_f1 = np.meshgrid(np.arange(np.min(X[:,0])-0.5, np.max(X[:,0])+0.5, step), np.arange(np.min(X[:,1])-0.5, np.max(X[:,1])+0.5, step))\n",
    "    mesh = np.c_[np.ravel(mesh_f0), np.ravel(mesh_f1)]\n",
    "    y_pred = model.predict(mesh).reshape(mesh_f0.shape)\n",
    "\n",
    "    #plot\n",
    "    plt.title(title)\n",
    "    plt.xlabel(xlabel1)\n",
    "    plt.ylabel(ylabel1)\n",
    "    plt.contourf(mesh_f0,mesh_f1,y_pred,n_class-1,cmap=ListedColormap(contourf_color))\n",
    "    plt.contour(mesh_f0,mesh_f1,y_pred,n_class-1,colors='y', linewidths=5,alpha=0.5)\n",
    "    for i, target in enumerate(set(y)):\n",
    "        plt.scatter(X[y==target][:,0], X[y==target][:,1],s=80,color=scatter_color[i],label=target_names[i],marker='o')\n",
    "    patches = [mpatches.Patch(color=scatter_color[i],label=target_names[i]) for i in range(n_class)]\n",
    "    plt.legend(handles=patches)\n",
    "    plt.legend()"
   ]
  },
  {
   "cell_type": "markdown",
   "metadata": {},
   "source": [
    "### Find the conditions for division by learning\n",
    "\n",
    "By learning, we ask under what conditions the nodes can be divided well.\n",
    "\n",
    "Calculate the Gini Impureness and Information Gain values for the node to determine if it is well separated.\n",
    "\n"
   ]
  },
  {
   "cell_type": "markdown",
   "metadata": {},
   "source": [
    "## Problem 1 Function for finding impureness\n",
    "\n",
    "Create a function to calculate the Gini impurity​​ ​of a node. For node t\n",
    ", the Gini impurity I(t) can be obtained by the following formula The more mixed the classes are, the higher the Gini impurity.\n",
    "\n",
    "$I(t)=1-\\sum_{i=1}^{K} P^{2}\\left(C_{i} \\mid t\\right)=1-\\sum_{i=1}^{K}\\left(\\frac{N_{t, i}}{N_{t, a l l}}\\right)^{2}$\n",
    "\n",
    "$t$: Index of nodes\n",
    "\n",
    "$i$: Index of classes\n",
    "\n",
    "$K$: Number of classes\n",
    "\n",
    "$C_i$: The i-th class\n",
    "\n",
    "%P(C_i|t)$:　Proportion of Ci\n",
    "\n",
    "at the t-th node\n",
    "\n",
    "$N_{t, i}$: Number of samples belonging to the i-th class of the t-th node\n",
    "\n",
    "$N_{t, all}$: Total number of samples at the t-th node\n",
    "\n",
    "First, make a simple example and compare the results of the manual calculation with the function.\n",
    "\n",
    "<< Example >>\n",
    "\n",
    "    Class 1: Number of samples 15, Class 2: Number of samples 15 → Gini impure 0.500\n",
    "    Class 1: Number of samples 15, Class 2: Number of samples 15, Class 3: Number of samples 15 → Gini impure 0.667\n",
    "    Class 1: Number of samples 18, Class 2: Number of samples 12 → Gini impure 0.480\n",
    "    Class 1: Number of samples 30, Class 2: Number of samples 0 → Gini impure 0.000\n"
   ]
  },
  {
   "cell_type": "code",
   "execution_count": 4,
   "metadata": {},
   "outputs": [],
   "source": [
    "# Check with test data \n",
    "\n",
    "X = np.array([0,2,1,-1,4])\n",
    "y = np.array([0,0,0,1,1])"
   ]
  },
  {
   "cell_type": "code",
   "execution_count": 5,
   "metadata": {},
   "outputs": [
    {
     "name": "stdout",
     "output_type": "stream",
     "text": [
      "threshole_value [-1  0  1  2  4]\n"
     ]
    }
   ],
   "source": [
    "threshold_value = np.unique(X)\n",
    "print('threshole_value', threshold_value)"
   ]
  },
  {
   "cell_type": "code",
   "execution_count": 6,
   "metadata": {},
   "outputs": [
    {
     "name": "stdout",
     "output_type": "stream",
     "text": [
      "unique [0 1] unique_counts [3 2]\n"
     ]
    }
   ],
   "source": [
    "# Classify by label value\n",
    "u,counts = np.unique(y,return_counts=True)\n",
    "print('unique',u,'unique_counts',counts)"
   ]
  },
  {
   "cell_type": "code",
   "execution_count": 7,
   "metadata": {},
   "outputs": [],
   "source": [
    "def _gini(x):\n",
    "        unique, count = np.unique(x, return_counts=True)\n",
    "        tmp = 0\n",
    "\n",
    "        for i in unique:\n",
    "            tmp += (count[unique==i]/np.sum(count))**2\n",
    "\n",
    "        return 1-tmp"
   ]
  },
  {
   "cell_type": "code",
   "execution_count": 8,
   "metadata": {},
   "outputs": [
    {
     "name": "stdout",
     "output_type": "stream",
     "text": [
      "0 c1 [1] c2 [0 0 0 1]\n",
      "0 gini_left: [0.] gini_right [0.375]\n",
      "1 c1 [0 1] c2 [0 0 1]\n",
      "1 gini_left: [0.5] gini_right [0.44444444]\n",
      "2 c1 [0 0 1] c2 [0 1]\n",
      "2 gini_left: [0.44444444] gini_right [0.5]\n",
      "4 c1 [0 0 0 1] c2 [1]\n",
      "4 gini_left: [0.375] gini_right [0.]\n"
     ]
    }
   ],
   "source": [
    "# Calculating of Gini impurty at each threshhold\n",
    "for i in threshold_value[1:]:\n",
    "    c1 = y[X < i]\n",
    "    c2 = y[X >= i]\n",
    "\n",
    "    print(i,'c1',c1,'c2',c2)\n",
    "    print(i,'gini_left:',_gini(c1),'gini_right',_gini(c2))"
   ]
  },
  {
   "cell_type": "markdown",
   "metadata": {},
   "source": [
    "## Problem 2 Function for finding information gain\n",
    "Next, create a function to calculate theinformation gain between the nodes. Gini Impurity $I(t)$ (t)​ created in Problem 1.The better the separation, the greater the information gain.\n",
    "\n",
    "Since there are only two branches here, the branch destination is called the \"left node / right node\".\n",
    "\n",
    "$I G(p)=I(p)-\\frac{N_{l e f t, a l l}}{N_{p, a l l}} I($ left $)-\\frac{N_{\\text {right }, \\text { all }}}{N_{p, a l l}} I($ right $)$\n",
    "\n",
    "$p$: Index indicating the parent node\n",
    "\n",
    "$left$: Index showing the left-hand node\n",
    "\n",
    "$right$: Index showing the nodes on the right\n",
    "\n",
    "First, make a simple example and compare the results of the manual calculation with the function.\n",
    "\n",
    "<< Example >>\n",
    "\n",
    "Left node class 1: Number of samples 10, Left node class 2: Number of samples 30, Right node class 1: Number of samples 20, Right node class 2: Number of samples 5 → Information gain 0.143"
   ]
  },
  {
   "cell_type": "code",
   "execution_count": 9,
   "metadata": {},
   "outputs": [
    {
     "name": "stdout",
     "output_type": "stream",
     "text": [
      "4 [0.5]\n",
      "4 [0.33333333]\n",
      "4 [0.33333333]\n",
      "4 [0.5]\n"
     ]
    }
   ],
   "source": [
    "for j in threshold_value[1:]:\n",
    "    c1 = y[X < j]\n",
    "    c2 = y[X >= j]\n",
    "\n",
    "    left = len(c1)/(len(c1)+len(c2))*_gini(c1)\n",
    "    right = len(c2)/(len(c1)+len(c2))*_gini(c2)\n",
    "\n",
    "    gain = _gini(X) - left - right \n",
    "    print(i, gain)"
   ]
  },
  {
   "cell_type": "markdown",
   "metadata": {},
   "source": [
    "## Problem 3 Learning\n",
    "\n",
    "Write the code to split the space and generate a graph of the decision tree. Since it is a decision tree with a depth of 1, we will divide it only once. Generating a graph here means finding which feature quantity is more than how many as a condition for one division.\n",
    "\n",
    "All combinations of training data are divided, and the division that maximizes the information gain between nodes is recorded as the division criterion for that node.\n",
    "\n",
    "A node with zero impureness that does not mix classes, or a node with a specified depth is a leaf node. A class is recorded in the leaf node, and this is used as the class to be classified at the time of estimation. If the classes are not mixed, record the class as it is, and if it is mixed, decide by majority vote.\n",
    "\n",
    "<< How to take a combination >>\n",
    "\n",
    "The simplest way to take all combinations is to use the value of each feature as a threshold value for division. Use this method for this scratch on one end.\n",
    "\n",
    "Another method is to set an intermediate value as the threshold, and scikit-learn uses this method.\n",
    "\n",
    "<< Supplement >>\n",
    "\n",
    "The function for calculating the information gain in Problem 2 is not suitable for use in Problem 3, as it is not possible to calculate the impurity of the parent node I(p)\n",
    "\n",
    "is fixed, the same result can be obtained by simply summing the impurity of the left and right nodes. However, here the implementation should take into account the parent node and calculate the information gain."
   ]
  },
  {
   "cell_type": "code",
   "execution_count": 10,
   "metadata": {},
   "outputs": [],
   "source": [
    "# sameple data 2\n",
    "X = np.array([\n",
    "    [-0.44699 , -2.8073  ],[-1.4621  , -2.4586  ],\n",
    "    [ 0.10645 ,  1.9242  ],[-3.5944  , -4.0112  ],\n",
    "    [-0.9888  ,  4.5718  ],[-3.1625  , -3.9606  ],\n",
    "    [ 0.56421 ,  0.72888 ],[-0.60216 ,  8.4636  ],\n",
    "    [-0.61251 , -0.75345 ],[-0.73535 , -2.2718  ],\n",
    "    [-0.80647 , -2.2135  ],[ 0.86291 ,  2.3946  ],\n",
    "    [-3.1108  ,  0.15394 ],[-2.9362  ,  2.5462  ],\n",
    "    [-0.57242 , -2.9915  ],[ 1.4771  ,  3.4896  ],\n",
    "    [ 0.58619 ,  0.37158 ],[ 0.6017  ,  4.3439  ],\n",
    "    [-2.1086  ,  8.3428  ],[-4.1013  , -4.353   ],\n",
    "    [-1.9948  , -1.3927  ],[ 0.35084 , -0.031994],\n",
    "    [ 0.96765 ,  7.8929  ],[-1.281   , 15.6824  ],\n",
    "    [ 0.96765 , 10.083   ],[ 1.3763  ,  1.3347  ],\n",
    "    [-2.234   , -2.5323  ],[-2.9452  , -1.8219  ],\n",
    "    [ 0.14654 , -0.28733 ],[ 0.5461  ,  5.8245  ],\n",
    "    [-0.65259 ,  9.3444  ],[ 0.59912 ,  5.3524  ],\n",
    "    [ 0.50214 , -0.31818 ],[-3.0603  , -3.6461  ],\n",
    "    [-6.6797  ,  0.67661 ],[-2.353   , -0.72261 ],\n",
    "    [ 1.1319  ,  2.4023  ],[-0.12243 ,  9.0162  ],\n",
    "    [-2.5677  , 13.1779  ],[ 0.057313,  5.4681  ],\n",
    "])\n",
    "y = np.array([0, 0, 0, 0, 0, 0, 0, 0, 0, 0, 0, 0, 0, 0, 0, 0, 0, 0, 0, 0, 1, 1,\n",
    "       1, 1, 1, 1, 1, 1, 1, 1, 1, 1, 1, 1, 1, 1, 1, 1, 1, 1])"
   ]
  },
  {
   "cell_type": "code",
   "execution_count": 11,
   "metadata": {},
   "outputs": [
    {
     "data": {
      "text/plain": [
       "<matplotlib.legend.Legend at 0x7f5fa25c4dd8>"
      ]
     },
     "execution_count": 11,
     "metadata": {},
     "output_type": "execute_result"
    },
    {
     "data": {
      "image/png": "[encoded data removed]",
      "text/plain": [
       "<Figure size 864x576 with 1 Axes>"
      ]
     },
     "metadata": {
      "needs_background": "light"
     },
     "output_type": "display_data"
    }
   ],
   "source": [
    "# Visualizing simple Data 2\n",
    "fit,ax = plt.subplots(figsize=(12,8))\n",
    "plt.rcParams[\"font.size\"] = 20\n",
    "plt.scatter(X[y==1,0],X[y==1,1],s=80, label='y=1')\n",
    "plt.scatter(X[y==0,0],X[y==0,1],s=80, label='y=0')\n",
    "plt.legend()"
   ]
  },
  {
   "cell_type": "code",
   "execution_count": 12,
   "metadata": {},
   "outputs": [
    {
     "name": "stdout",
     "output_type": "stream",
     "text": [
      "X_train.shape:  (32, 2)\n",
      "y_train.shape:  (32,)\n",
      "X_valid.shape:  (8, 2)\n",
      "y_valid.shape:  (8,)\n"
     ]
    }
   ],
   "source": [
    "# Split into training data and validation\n",
    "from sklearn.model_selection import train_test_split\n",
    "\n",
    "X_train, X_valid, y_train, y_valid = train_test_split(X, y, train_size=0.8, random_state=None)\n",
    "\n",
    "print('X_train.shape: ', X_train.shape)\n",
    "print('y_train.shape: ', y_train.shape)\n",
    "print('X_valid.shape: ', X_valid.shape)\n",
    "print('y_valid.shape: ', y_valid.shape)"
   ]
  },
  {
   "cell_type": "code",
   "execution_count": 13,
   "metadata": {},
   "outputs": [
    {
     "name": "stdout",
     "output_type": "stream",
     "text": [
      "feature 0 threshold -4.1013 gain [0.01820817]\n",
      "feature 0 threshold -3.0603 gain [0.02675058]\n",
      "feature 0 threshold -0.44699 gain [0.02942339]\n",
      "feature 0 threshold -0.12243 gain [0.04700521]\n",
      "feature 1 threshold -2.2135 gain [0.04756378]\n",
      "feature 1 threshold -1.8219 gain [0.06566051]\n"
     ]
    }
   ],
   "source": [
    "# Visualizing the Learning Process with Scratch Decision Trees\n",
    "clf1 = ScratchDecesionTreeClassifierDepth1(verbose=True)\n",
    "clf1.fit(X_train, y_train)"
   ]
  },
  {
   "cell_type": "markdown",
   "metadata": {},
   "source": [
    "## Problem 4 Estimate\n",
    "\n",
    "Please implement the estimation mechanism. Add it to the predict method included in the template of the ScratchDecesionTreeClassifierDepth1 class.\n",
    "\n",
    "Judge the value of the input data under the learned conditions and see which leaf node is reached. Since the class is recorded in the leaf node, this is the estimate."
   ]
  },
  {
   "cell_type": "code",
   "execution_count": 14,
   "metadata": {},
   "outputs": [],
   "source": [
    "y_pred = clf1.predict(X_valid)"
   ]
  },
  {
   "cell_type": "code",
   "execution_count": 15,
   "metadata": {},
   "outputs": [
    {
     "name": "stdout",
     "output_type": "stream",
     "text": [
      "[1 1 1 1 1 1 1 1]\n",
      "[1 0 1 1 0 1 1 0]\n"
     ]
    }
   ],
   "source": [
    "print(y_pred)\n",
    "print(y_valid)"
   ]
  },
  {
   "cell_type": "markdown",
   "metadata": {},
   "source": [
    "## Problem 5 Learning and estimation\n",
    "\n",
    "Learn and estimate the scratch implementation for the binary classification of Simple Dataset 2 prepared in Sprint, an introduction to machine learning scratch.\n",
    "\n",
    "Compare this with the scikit-learn implementation and see if it works correctly.\n",
    "\n",
    "Use scikit-learn for indicator values such as Accuracy, Precision and Recall."
   ]
  },
  {
   "cell_type": "code",
   "execution_count": 16,
   "metadata": {},
   "outputs": [
    {
     "name": "stdout",
     "output_type": "stream",
     "text": [
      "accuracy:  0.625\n",
      "precision:  0.625\n",
      "recall:  1.0\n",
      "f1:  0.7692307692307693\n"
     ]
    }
   ],
   "source": [
    "# Evaluation index \n",
    "from sklearn.metrics import accuracy_score\n",
    "from sklearn.metrics import precision_score\n",
    "from sklearn.metrics import recall_score\n",
    "from sklearn.metrics import f1_score\n",
    "\n",
    "accuracy = accuracy_score(y_valid, y_pred)\n",
    "precision = precision_score(y_valid, y_pred)\n",
    "recall = recall_score(y_valid, y_pred)\n",
    "f1 = f1_score(y_valid, y_pred)\n",
    "\n",
    "print('accuracy: ', accuracy)\n",
    "print('precision: ', precision)\n",
    "print('recall: ', recall)\n",
    "print('f1: ', f1)"
   ]
  },
  {
   "cell_type": "code",
   "execution_count": 17,
   "metadata": {},
   "outputs": [],
   "source": [
    "# Decision tree\n",
    "from sklearn.tree import DecisionTreeClassifier\n",
    "\n",
    "clf2 = DecisionTreeClassifier(max_depth=1)\n",
    "\n",
    "clf2.fit(X_train, y_train)\n",
    "\n",
    "y_pred = clf2.predict(X_valid)"
   ]
  },
  {
   "cell_type": "code",
   "execution_count": 18,
   "metadata": {},
   "outputs": [
    {
     "name": "stdout",
     "output_type": "stream",
     "text": [
      "[1 1 1 1 1 1 1 1]\n",
      "[1 0 1 1 0 1 1 0]\n"
     ]
    }
   ],
   "source": [
    "print(y_pred)\n",
    "print(y_valid)"
   ]
  },
  {
   "cell_type": "code",
   "execution_count": 19,
   "metadata": {},
   "outputs": [
    {
     "name": "stdout",
     "output_type": "stream",
     "text": [
      "accuracy:  0.625\n",
      "precision:  0.625\n",
      "recall:  1.0\n",
      "f1:  0.7692307692307693\n"
     ]
    }
   ],
   "source": [
    "accuracy = accuracy_score(y_valid, y_pred)\n",
    "precision = precision_score(y_valid, y_pred)\n",
    "recall = recall_score(y_valid, y_pred)\n",
    "f1 = f1_score(y_valid, y_pred)\n",
    "\n",
    "print('accuracy: ', accuracy)\n",
    "print('precision: ', precision)\n",
    "print('recall: ', recall)\n",
    "print('f1: ', f1)"
   ]
  },
  {
   "cell_type": "markdown",
   "metadata": {},
   "source": [
    "<li> The prediction results of the scratch implementation and the sklearn prediction at depth 1 are the same\n",
    "<li> Next, let's visualize the decision region and compare it with the threshold of sklearn"
   ]
  },
  {
   "cell_type": "markdown",
   "metadata": {},
   "source": [
    "## Problem 6 Visualization of decision area"
   ]
  },
  {
   "cell_type": "code",
   "execution_count": 20,
   "metadata": {},
   "outputs": [
    {
     "data": {
      "image/png": "[encoded data removed]",
      "text/plain": [
       "<Figure size 864x864 with 1 Axes>"
      ]
     },
     "metadata": {
      "needs_background": "light"
     },
     "output_type": "display_data"
    }
   ],
   "source": [
    "# Results of Scratch Decision Tree Classification\n",
    "fit,ax = plt.subplots(figsize=(12,12))\n",
    "plt.rcParams[\"font.size\"] = 20\n",
    "decision_region(X_train,y_train,clf1,title='TRAIN',target_names=['0','1'])"
   ]
  },
  {
   "cell_type": "code",
   "execution_count": 21,
   "metadata": {},
   "outputs": [
    {
     "data": {
      "image/png": "[encoded data removed]",
      "text/plain": [
       "<Figure size 864x864 with 1 Axes>"
      ]
     },
     "metadata": {
      "needs_background": "light"
     },
     "output_type": "display_data"
    }
   ],
   "source": [
    "# Decision Tree Classification results for scikit-learn\n",
    "fit,ax = plt.subplots(figsize=(12,12))\n",
    "plt.rcParams[\"font.size\"] = 20\n",
    "decision_region(X_train,y_train,clf2,title='TRAIN',target_names=['0','1'])"
   ]
  },
  {
   "cell_type": "markdown",
   "metadata": {},
   "source": [
    "## Problem 7 (Advance assignment) Creation of a decision tree classifier class with a depth of 2\n",
    "\n",
    "Create a decision tree classifier class ScratchDecesionTreeClassifierDepth2 with a depth of 2.\n",
    "\n",
    "Depth 2 means that the space is divided twice.\n",
    "\n",
    "《Hint》\n",
    "\n",
    "Treating each node as an instance makes it easier to extend to any depth"
   ]
  },
  {
   "cell_type": "code",
   "execution_count": 22,
   "metadata": {},
   "outputs": [
    {
     "name": "stdout",
     "output_type": "stream",
     "text": [
      "X_train.shape:  (32, 2)\n",
      "y_train.shape:  (32,)\n",
      "X_valid.shape:  (8, 2)\n",
      "y_valid.shape:  (8,)\n"
     ]
    }
   ],
   "source": [
    "# Regeneration of training and validation data\n",
    "X_train, X_valid, y_train, y_valid = train_test_split(X, y, train_size=0.8, random_state=None)\n",
    "\n",
    "print('X_train.shape: ', X_train.shape)\n",
    "print('y_train.shape: ', y_train.shape)\n",
    "print('X_valid.shape: ', X_valid.shape)\n",
    "print('y_valid.shape: ', y_valid.shape)"
   ]
  },
  {
   "cell_type": "markdown",
   "metadata": {},
   "source": [
    "<li> Create a node class to hold and track variables for each node at arbitrary depths"
   ]
  },
  {
   "cell_type": "code",
   "execution_count": 23,
   "metadata": {},
   "outputs": [],
   "source": [
    "# Node class\n",
    "class Node():\n",
    "    \"\"\"\n",
    "    A class that composes and separates the nodes of decision tree\n",
    "    Parameters\n",
    "    ----------\n",
    "    verbose : bool\n",
    "      True to output the learning process\n",
    "    max_depthL int\n",
    "      Maximum training depth of decision tree\n",
    "    \"\"\"\n",
    "    def __init__(self,max_depth=None, verbose=False):\n",
    "        # Record hyperparameters as attributes\n",
    "        self.verbose = verbose\n",
    "        self.max_depth = max_depth\n",
    "        self.feature = None\n",
    "    \n",
    "    def _separate(self, X, y, depth):\n",
    "        \"\"\"\n",
    "        Split nodes using the CART method\n",
    "        Parameters\n",
    "        ==========\n",
    "        x: ndarray, shape (n_samples,) of the following form\n",
    "            Label value of training data\n",
    "        \"\"\"\n",
    "        self.depth = depth \n",
    "        features = X.shape[1]\n",
    "\n",
    "        # After branching, if Gini purity is 0, branching ends\n",
    "        if len(np.unique(y)) == 1:\n",
    "            self.label = np.unique(y)[0]\n",
    "            return \n",
    "        \n",
    "        # Branch ends if maximum depth is reached\n",
    "        if self.depth == self.max_depth:\n",
    "            self.label = statistics.mode(y)\n",
    "            return \n",
    "        \n",
    "        self.gain = 0\n",
    "        for feature_number in range(features):\n",
    "\n",
    "            thresholds = np.unique(X[:,feature_number])\n",
    "\n",
    "            for threshold_value in thresholds[1:]:\n",
    "                l = y[X[:,feature_number] < threshold_value]\n",
    "                r = y[X[:,feature_number] >= threshold_value]\n",
    "\n",
    "                gini_l = len(l)/(len(l)+len(r))*self._gini(l)\n",
    "                gini_r = len(r)/(len(l)+len(r))*self._gini(r)\n",
    "\n",
    "                gain_tmp = self._gini(y) - gini_l - gini_r \n",
    "\n",
    "                if gain_tmp > self.gain:\n",
    "                    self.feature = feature_number\n",
    "                    self.threshold = threshold_value\n",
    "                    self.gain = gain_tmp\n",
    "\n",
    "        if self.verbose:\n",
    "            print('depth', self.depth,\n",
    "                'feature', self.feature,\n",
    "                'threshold',self.threshold,\n",
    "                'gain', self.gain)\n",
    "        \n",
    "        # Branch of child node (left)\n",
    "        l_X = X[X[:,self.feature] < self.threshold]\n",
    "        l_y = y[X[:,self.feature] < self.threshold]\n",
    "        self.left = Node(self.max_depth, self.verbose)\n",
    "        self.left._separate(l_X, l_y, depth+1)\n",
    "\n",
    "        # Branch of child node (right)\n",
    "        r_X = X[X[:,self.feature] >= self.threshold]\n",
    "        r_y = y[X[:,self.feature] >= self.threshold]\n",
    "        self.right = Node(self.max_depth, self.verbose)\n",
    "        self.right._separate(r_X, r_y, depth+1)\n",
    "    \n",
    "    def _gini(self, X):\n",
    "        \"\"\"\n",
    "        Calculating Gini Impurity\n",
    "        Parameters\n",
    "        =========\n",
    "        x: ndarray, shape (n_samples,) of the following form\n",
    "           Features value of training data\n",
    "        \"\"\"\n",
    "        unique, count = np.unique(X, return_counts=True)\n",
    "        tmp = 0\n",
    "\n",
    "        for i in unique:\n",
    "            tmp += (count[unique==i]/np.sum(count))**2\n",
    "\n",
    "        return 1-tmp\n",
    "\n",
    "    def _predict(self, X):\n",
    "        \"\"\"\n",
    "        Estimate the label using a decision tree classifier\n",
    "        \"\"\"\n",
    "        if self.feature == None or self.depth == self.max_depth:\n",
    "            return self.label\n",
    "        \n",
    "        else:\n",
    "            if X[self.feature] < self.threshold:\n",
    "                return self.left._predict(X)\n",
    "            else:\n",
    "                return self.right._predict(X)"
   ]
  },
  {
   "cell_type": "code",
   "execution_count": 24,
   "metadata": {},
   "outputs": [],
   "source": [
    "class ScratchDecesionTreeClassifierDepth():\n",
    "    \"\"\"\n",
    "    Scratch implementation of decision tree classifier of depth n\n",
    "    Parameters\n",
    "    ----------\n",
    "    verbose : bool\n",
    "      True to output the learning process\n",
    "    max_depth: int\n",
    "      Maximum training depth of decision tree\n",
    "    \"\"\"\n",
    "    def __init__(self, max_depth=1, verbose=False):\n",
    "        # Record hyperparameters as attributes\n",
    "        self.verbose = verbose\n",
    "        self.max_depth = max_depth\n",
    "\n",
    "    def fit(self, X, y):\n",
    "        \"\"\"\n",
    "        Learn the decision tree classifier\n",
    "        Parameters\n",
    "        ----------\n",
    "        X : The following forms of ndarray, shape (n_samples, n_features)\n",
    "            Features of training data\n",
    "        y : The following form of ndarray, shape (n_samples,)\n",
    "            Correct answer value of training data\n",
    "        \"\"\"\n",
    "        self.depth = 0\n",
    "        self.root = Node(self.max_depth, self.verbose)\n",
    "        self.root._separate(X,y,self.depth)\n",
    "\n",
    "\n",
    "    def predict(self, X):\n",
    "        \"\"\"\n",
    "        Estimate the label using a decision tree classifier\n",
    "        \"\"\"\n",
    "        y_pred = np.zeros(len(X))\n",
    "\n",
    "        for i,x in enumerate(X):\n",
    "            y_pred[i] = self.root._predict(x)\n",
    "        return y_pred"
   ]
  },
  {
   "cell_type": "code",
   "execution_count": 25,
   "metadata": {},
   "outputs": [
    {
     "name": "stdout",
     "output_type": "stream",
     "text": [
      "depth 0 feature 1 threshold 5.3524 gain [0.09375]\n",
      "depth 1 feature 1 threshold -3.6461 gain [0.04017857]\n",
      "depth 1 feature 1 threshold 9.0162 gain [0.05208333]\n"
     ]
    }
   ],
   "source": [
    "# Learning Depth 2 with Scratch Decision Trees\n",
    "clf3 = ScratchDecesionTreeClassifierDepth(max_depth=2, verbose=True)\n",
    "clf3.fit(X_train,y_train)"
   ]
  },
  {
   "cell_type": "code",
   "execution_count": 26,
   "metadata": {},
   "outputs": [
    {
     "name": "stdout",
     "output_type": "stream",
     "text": [
      "[0. 0. 1. 0. 0. 1. 1. 0.]\n"
     ]
    }
   ],
   "source": [
    "y_pred3 = clf3.predict(X_valid)\n",
    "print(y_pred3)"
   ]
  },
  {
   "cell_type": "code",
   "execution_count": 27,
   "metadata": {},
   "outputs": [
    {
     "data": {
      "image/png": "[encoded data removed]",
      "text/plain": [
       "<Figure size 864x864 with 1 Axes>"
      ]
     },
     "metadata": {
      "needs_background": "light"
     },
     "output_type": "display_data"
    }
   ],
   "source": [
    "# Decision region of the Scratch decision Tree (depth 2)\n",
    "fit,ax = plt.subplots(figsize=(12,12))\n",
    "plt.rcParams[\"font.size\"] = 20\n",
    "decision_region(X_train,y_train,clf3,title='TRAIN',target_names=['0','1'])"
   ]
  },
  {
   "cell_type": "markdown",
   "metadata": {},
   "source": [
    "## Problem 8 (Advance assignment) Creation of decision tree classifier class with unlimited depth\n",
    "\n",
    "Create a decision tree classifier class ScratchDecesionTreeClassifierDepthInf with unlimited depth.\n",
    "\n",
    "Allow any depth to be specified, otherwise allow all leaf nodes to continue until all Gini impureness is zero."
   ]
  },
  {
   "cell_type": "code",
   "execution_count": 28,
   "metadata": {},
   "outputs": [
    {
     "name": "stdout",
     "output_type": "stream",
     "text": [
      "depth 0 feature 1 threshold 5.3524 gain [0.09375]\n",
      "depth 1 feature 1 threshold -3.6461 gain [0.04017857]\n",
      "depth 2 feature 0 threshold -1.4621 gain [0.13106576]\n",
      "depth 3 feature 1 threshold 2.5462 gain [0.27777778]\n",
      "depth 3 feature 0 threshold 0.35084 gain [0.12444444]\n",
      "depth 4 feature 0 threshold 0.56421 gain [0.16666667]\n",
      "depth 5 feature 0 threshold 1.1319 gain [0.22222222]\n",
      "depth 6 feature 0 threshold 1.4771 gain [0.44444444]\n",
      "depth 1 feature 1 threshold 9.0162 gain [0.05208333]\n",
      "depth 2 feature 0 threshold 0.5461 gain [0.44444444]\n"
     ]
    }
   ],
   "source": [
    "# Learning the Scratch Decision Tree (depth n)\n",
    "clf5 = ScratchDecesionTreeClassifierDepth(max_depth=None,verbose=True)\n",
    "clf5.fit(X_train,y_train)"
   ]
  },
  {
   "cell_type": "code",
   "execution_count": 29,
   "metadata": {},
   "outputs": [
    {
     "name": "stdout",
     "output_type": "stream",
     "text": [
      "[0. 0. 0. 1. 1. 0. 1. 0.]\n"
     ]
    }
   ],
   "source": [
    "y_pred5 = clf5.predict(X_valid)\n",
    "print(y_pred5)"
   ]
  },
  {
   "cell_type": "code",
   "execution_count": 30,
   "metadata": {},
   "outputs": [
    {
     "name": "stdout",
     "output_type": "stream",
     "text": [
      "accuracy:  0.625\n",
      "precision:  0.6666666666666666\n",
      "recall:  0.5\n",
      "f1:  0.5714285714285715\n"
     ]
    }
   ],
   "source": [
    "accuracy = accuracy_score(y_valid, y_pred5)\n",
    "precision = precision_score(y_valid, y_pred5)\n",
    "recall = recall_score(y_valid, y_pred5)\n",
    "f1 = f1_score(y_valid, y_pred5)\n",
    "\n",
    "print('accuracy: ', accuracy)\n",
    "print('precision: ', precision)\n",
    "print('recall: ', recall)\n",
    "print('f1: ', f1)"
   ]
  },
  {
   "cell_type": "code",
   "execution_count": 31,
   "metadata": {},
   "outputs": [
    {
     "data": {
      "image/png": "[encoded data removed]",
      "text/plain": [
       "<Figure size 864x864 with 1 Axes>"
      ]
     },
     "metadata": {
      "needs_background": "light"
     },
     "output_type": "display_data"
    }
   ],
   "source": [
    "# Decision region of the Scratch decision Tree (depth n)\n",
    "fit,ax = plt.subplots(figsize=(12,12))\n",
    "plt.rcParams[\"font.size\"] = 20\n",
    "decision_region(X_train,y_train,clf5,title='TRAIN',target_names=['0','1'])"
   ]
  },
  {
   "cell_type": "code",
   "execution_count": 32,
   "metadata": {},
   "outputs": [
    {
     "data": {
      "image/png": "[encoded data removed]",
      "text/plain": [
       "<Figure size 864x864 with 1 Axes>"
      ]
     },
     "metadata": {
      "needs_background": "light"
     },
     "output_type": "display_data"
    }
   ],
   "source": [
    "# Decision region of Sklearn decision Tree (depth n)\n",
    "clf_sk = DecisionTreeClassifier(max_depth=None,random_state=None)\n",
    "clf_sk.fit(X_train,y_train)\n",
    "\n",
    "fit,ax = plt.subplots(figsize=(12,12))\n",
    "plt.rcParams[\"font.size\"] = 20\n",
    "decision_region(X_train,y_train,clf_sk,title='TRAIN',target_names=['0','1'])"
   ]
  },
  {
   "cell_type": "code",
   "execution_count": null,
   "metadata": {},
   "outputs": [],
   "source": []
  }
 ],
 "metadata": {
  "interpreter": {
   "hash": "31f2aee4e71d21fbe5cf8b01ff0e069b9275f58929596ceb00d14d90e3e16cd6"
  },
  "kernelspec": {
   "display_name": "Python 3.6.9 64-bit",
   "name": "python3"
  },
  "language_info": {
   "codemirror_mode": {
    "name": "ipython",
    "version": 3
   },
   "file_extension": ".py",
   "mimetype": "text/x-python",
   "name": "python",
   "nbconvert_exporter": "python",
   "pygments_lexer": "ipython3",
   "version": "3.6.9"
  },
  "orig_nbformat": 4
 },
 "nbformat": 4,
 "nbformat_minor": 2
}